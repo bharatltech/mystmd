{
 "cells": [
  {
   "cell_type": "markdown",
   "metadata": {},
   "source": [
    "---\n",
    "3 FIRST LOOK AT GOFER\n",
    "---"
   ]
  },
  {
   "cell_type": "markdown",
   "metadata": {},
   "source": [
    "We can now plot the altair example, which is fully interactive, try dragging in the plot to select cars by their horsepower."
   ]
  },
  {
   "cell_type": "markdown",
   "metadata": {},
   "source": [
    "Now let's look at our first function definition in the Gofer language, a program to\n",
    "implement the factorial function for natural numbers. (For the purposes of this course,\n",
    "remember that the natural numbers consist of 0 and the positive integers.)\n",
    "In Section 2.2, we saw two defnitions, fact and fact0, that are equivalent for all natural\n",
    "number arguments. We defned fact using the product operator as follows:\n",
    "\n",
    "              fact(n) =iY=n\n",
    "                        i=1\n",
    "               \n",
    "(We note that fact(0) = 1, which is the identity element of the multiplication operation.)\n",
    "We also defined the factorial function with a recursive definition (or recurrence relation)\n",
    "as follows:\n",
    "\n",
    "                fact0(n) ={1,               if n = 0\n",
    "                           {n*fact0(n 􀀀 1), if n >= 1"
   ]
  },
  {
   "cell_type": "markdown",
   "metadata": {},
   "source": [
    "Since the domain of fact0 is the set of natural numbers, a set over which induction is\n",
    "defined, we can easily see that this recursive definition is well defined. For n = 0, the\n",
    "base case, the value is simply 1. For n>=1, the value of fact0(n) is recursively defined\n",
    "in terms of fact0(n 􀀀 1); the argument of the recursive application decreases toward\n",
    "the base case.\n",
    "\n",
    "One way to translate the recursive definition fact0 into Gofer is the following:"
   ]
  },
  {
   "cell_type": "markdown",
   "metadata": {},
   "source": [
    "\u000f The first line above is the type signature for function fact1. In general, type\n",
    "signatures have the syntax object :: type.\n",
    "Here object fact1 is defined as a function (denoted by the \\->\" symbol) that\n",
    "takes one argument of type integer (denoted by the first Int) and returns a\n",
    "value of type integer (denoted by the last Int).\n",
    "Gofer does not have a built-in natural number type. Thus we choose type Int\n",
    "for the argument and result of fact1."
   ]
  },
  {
   "cell_type": "code",
   "execution_count": 1,
   "metadata": {
    "scrolled": true
   },
   "outputs": [
    {
     "ename": "SyntaxError",
     "evalue": "invalid syntax (4262466955.py, line 1)",
     "output_type": "error",
     "traceback": [
      "  \u001b[36mCell\u001b[39m\u001b[36m \u001b[39m\u001b[32mIn[1]\u001b[39m\u001b[32m, line 1\u001b[39m\n\u001b[31m    \u001b[39m\u001b[31mfact1 :: Int -> Int\u001b[39m\n           ^\n\u001b[31mSyntaxError\u001b[39m\u001b[31m:\u001b[39m invalid syntax\n"
     ]
    }
   ],
   "source": [
    "fact1 :: Int -> Int\n",
    "fact1 n = if n == 0 then\n",
    "1\n",
    "else\n",
    "n * fact1 (n-1)\n"
   ]
  },
  {
   "cell_type": "markdown",
   "metadata": {},
   "source": [
    "                                             17"
   ]
  },
  {
   "cell_type": "code",
   "execution_count": null,
   "metadata": {},
   "outputs": [],
   "source": []
  }
 ],
 "metadata": {
  "kernelspec": {
   "display_name": "Python 3 (ipykernel)",
   "language": "python",
   "name": "python3"
  },
  "language_info": {
   "codemirror_mode": {
    "name": "ipython",
    "version": 3
   },
   "file_extension": ".py",
   "mimetype": "text/x-python",
   "name": "python",
   "nbconvert_exporter": "python",
   "pygments_lexer": "ipython3",
   "version": "3.12.0"
  },
  "vscode": {
   "interpreter": {
    "hash": "d7b89e158b719c02a21186c9646700ecf5a8cc5b1b6f738df9b6ffa75e5e74e4"
   }
  }
 },
 "nbformat": 4,
 "nbformat_minor": 4
}
