{
 "cells": [
  {
   "cell_type": "markdown",
   "metadata": {},
   "source": [
    "---\n",
    "3 FIRST LOOK AT GOFER\n",
    "---"
   ]
  },
  {
   "cell_type": "markdown",
   "metadata": {},
   "source": [
    "We can now plot the altair example, which is fully interactive, try dragging in the plot to select cars by their horsepower."
   ]
  },
  {
   "cell_type": "markdown",
   "metadata": {},
   "source": [
    "Now let's look at our first function definition in the Gofer language, a program to\n",
    "implement the factorial function for natural numbers. (For the purposes of this course,\n",
    "remember that the natural numbers consist of 0 and the positive integers.)\n",
    "In Section 2.2, we saw two defnitions, fact and fact0, that are equivalent for all natural\n",
    "number arguments. We defned fact using the product operator as follows:\n",
    "\n",
    "              fact(n) =iY=n\n",
    "                        i=1\n",
    "               \n",
    "(We note that fact(0) = 1, which is the identity element of the multiplication operation.)\n",
    "We also defined the factorial function with a recursive definition (or recurrence relation)\n",
    "as follows:\n",
    "\n",
    "                fact0(n) ={1,               if n = 0\n",
    "                           {n*fact0(n 􀀀 1), if n >= 1"
   ]
  },
  {
   "cell_type": "markdown",
   "metadata": {},
   "source": [
    "Since the domain of fact0 is the set of natural numbers, a set over which induction is\n",
    "defined, we can easily see that this recursive definition is well defined. For n = 0, the\n",
    "base case, the value is simply 1. For n>=1, the value of fact0(n) is recursively defined\n",
    "in terms of fact0(n 􀀀 1); the argument of the recursive application decreases toward\n",
    "the base case.\n",
    "\n",
    "One way to translate the recursive definition fact0 into Gofer is the following:"
   ]
  },
  {
   "cell_type": "markdown",
   "metadata": {},
   "source": [
    "\u000f The first line above is the type signature for function fact1. In general, type\n",
    "signatures have the syntax object :: type.\n",
    "Here object fact1 is defined as a function (denoted by the \\->\" symbol) that\n",
    "takes one argument of type integer (denoted by the first Int) and returns a\n",
    "value of type integer (denoted by the last Int).\n",
    "Gofer does not have a built-in natural number type. Thus we choose type Int\n",
    "for the argument and result of fact1."
   ]
  },
  {
   "cell_type": "code",
   "execution_count": null,
   "metadata": {},
   "outputs": [],
   "source": [
    "fact1 :: Int -> Int\n",
    "fact1 n = if n == 0 then\n",
    "1\n",
    "else\n",
    "n * fact1 (n-1)\n"
   ]
  },
  {
   "cell_type": "markdown",
   "metadata": {},
   "source": [
    "                                                     17"
   ]
  },
  {
   "cell_type": "markdown",
   "metadata": {},
   "source": [
    "\u000f The declaration for the function fact1 begins on the second line. Note that it\n",
    "is an equation of the form fname parms = body where fname is the name of the\n",
    "function, parms are the parameters for the function, and body is an expression\n",
    "defining the function's result.\n",
    "\n",
    "A function may have zero or more parameters. The parameters are listed after\n",
    "the function name without being enclosed in parentheses and without commas\n",
    "separating them.\n",
    "\n",
    "The parameter identifiers may appear in the body of the function. In the evaluation\n",
    "of a function application the actual argument values are substituted for\n",
    "parameters in the body.\n",
    "\n",
    "\u000f Note that the function fact1 is defined to be an if-then-else expression.\n",
    "Evaluation of the if-then-else yields the value 1 if argument n has the value\n",
    "0 (i.e., n == 0) and the value n * (fact1 (n-1)) otherwise.\n",
    "\n",
    "\u000f The else clause includes a recursive application of fact1. The expression (n-1)\n",
    "is the argument for the recursive application.\n",
    "\n",
    "Note that the value of the argument for the recursive application is less than\n",
    "the value of the original argument. For each recursive application of fact to a\n",
    "natural number, the argument's value moves closer to the termination value 0.\n",
    "\n",
    "\u000f Unlike most conventional languages, the indentation is significant in Gofer. The\n",
    "indentation indicates the nesting of expressions.\n",
    "\n",
    "\u000f This Gofer function does not match the mathematical definition given above.\n",
    "What is the difference?\n",
    "\n",
    "Notice the domains of the functions. The evaluation of fact1 will go into an\n",
    "\"infinite loop\" and eventually abort when it is applied to a negative value."
   ]
  },
  {
   "cell_type": "markdown",
   "metadata": {},
   "source": [
    "In Gofer there is only one way to form more complex expressions from simpler ones:\n",
    "apply a function.\n",
    "\n",
    "Neither parentheses nor special operator symbols are used to denote function application;\n",
    "it is denoted by simply listing the argument expressions following the function\n",
    "name, for example:\n",
    "\n",
    "          f x y\n",
    "          \n",
    "However, the usual prefix form for a function application is not a convenient or natural\n",
    "way to write many common expressions. Gofer provides a helpful bit of syntactic\n",
    "sugar, the infix expression. Thus instead of having to write the addition of x and y\n",
    "as\n",
    "\n",
    "           add x y"
   ]
  },
  {
   "cell_type": "markdown",
   "metadata": {},
   "source": [
    "                                                     18"
   ]
  },
  {
   "cell_type": "markdown",
   "metadata": {},
   "source": [
    "we can write it as\n",
    "\n",
    "     x + y\n",
    "    \n",
    "as we have since elementary school.\n",
    "\n",
    "Function application (i.e., juxtaposition) of function names and argument expressions)\n",
    "has higher precedence than other operators. Thus the expression f x + y is\n",
    "the same as (f x) + y.\n",
    "An alternative way to differentiate the two cases in the recursive definition is to use a\n",
    "different equation for each case. If the Boolean guard (e.g., n == 0) for an equation\n",
    "evaluates to true, then that equation is used in the evaluation of the function."
   ]
  },
  {
   "cell_type": "code",
   "execution_count": null,
   "metadata": {},
   "outputs": [],
   "source": [
    "fact2 :: Int -> Int\n",
    "fact2 n\n",
    "| n == 0 = 1\n",
    "| otherwise = n * fact2 (n-1"
   ]
  },
  {
   "cell_type": "markdown",
   "metadata": {},
   "source": [
    "Function fact2 is equivalent to the fact1. The guards are evaluated in a top-tobottom\n",
    "order. The otherwise guard succeeds if the n == 0 guard fails; thus it is\n",
    "similar to the trailing else clause on the if-then-else expression used in fact1.\n",
    "\n",
    "\n",
    "Another equivalent way to differentiate the two cases in the recursive definition is to\n",
    "use pattern matching as follows:"
   ]
  },
  {
   "cell_type": "code",
   "execution_count": null,
   "metadata": {},
   "outputs": [],
   "source": [
    "fact3 :: Int -> Int\n",
    "fact3 0 = 1\n",
    "fact3 n = n * fact3 (n-1)"
   ]
  },
  {
   "cell_type": "markdown",
   "metadata": {},
   "source": [
    "The parameter pattern 0 in the first leg of the definition only matches arguments\n",
    "with value 0. Since Gofer checks patterns and guards in a top-to-bottom order, the\n",
    "n pattern matches all nonzero values. Thus fact1, fact2, and fact3 are equivalent.\n",
    "\n",
    "\n",
    "\n",
    "\n",
    "To stop evaluation from going into an \"infinite loop\" for negative arguments, we can\n",
    "remove the negative integers from the function's domain. One way to do this is by\n",
    "using guards to narrow the domain to the natural numbers as in the definition of\n",
    "fact4 below:"
   ]
  },
  {
   "cell_type": "code",
   "execution_count": null,
   "metadata": {},
   "outputs": [],
   "source": [
    "fact4 :: Int -> Int\n",
    "fact4 n\n",
    "| n == 0 = 1\n",
    "| n >= 1 = n * fact4 (n-1)"
   ]
  },
  {
   "cell_type": "markdown",
   "metadata": {},
   "source": [
    "                                                   19 "
   ]
  },
  {
   "cell_type": "markdown",
   "metadata": {},
   "source": [
    "   "
   ]
  },
  {
   "cell_type": "markdown",
   "metadata": {},
   "source": [
    "Function fact4 is undefifned for negative arguments. If fact4 is applied to a negative\n",
    "argument, the evaluation of the program encounters an error quickly and returns\n",
    "without going into an infinite loop.\n",
    "\n",
    "A perhaps more elegant way to narrow the domain is by using Gofer's special natural\n",
    "number patterns of the form (n+k) as shown below:"
   ]
  },
  {
   "cell_type": "code",
   "execution_count": null,
   "metadata": {},
   "outputs": [],
   "source": [
    "fact5 :: Int -> Int\n",
    "fact5 0 = 1\n",
    "fact5 (n+1) = (n+1) * fact5 n"
   ]
  },
  {
   "cell_type": "markdown",
   "metadata": {},
   "source": [
    "\n",
    "\n",
    "\n",
    "\n",
    "As before, the pattern 0 matches an argument with value 0. But the special pattern\n",
    "(n+1) only matches argument values that are at least 1; variable n is bound to the\n",
    "value that is one less than the argument value.\n",
    "\n",
    "\n",
    "If fact5 is applied to a negative argument, the evaluation of the program encounters\n",
    "an error immediately and returns without going into an infinite loop.\n",
    "\n",
    "\n",
    "The five definitions we have looked at so far use recursive patterns similar to the\n",
    "recurrence relation fact0. Another alternative is to use the library function product\n",
    "and the list-generating expression [1..n] to define a solution that is like the function\n",
    "fact:"
   ]
  },
  {
   "cell_type": "code",
   "execution_count": null,
   "metadata": {},
   "outputs": [],
   "source": [
    "fact6 :: Int -> Int\n",
    "fact6 n = product [1..n]"
   ]
  },
  {
   "cell_type": "markdown",
   "metadata": {},
   "source": [
    "The list expression [1..n] generates a list of consecutive integers beginning with\n",
    "1 and ending with n. The library function product computes the product of the\n",
    "elements of this finite list.\n",
    "\n",
    "If fact6 is applied to a negative argument, it will return the value 1. This is consistent\n",
    "with the function fact upon which it was based.\n",
    "\n",
    "Which of the above six definitions for the factorial function is better?\n",
    "\n",
    "Most people in the functional programming community would consider fact5 and\n",
    "fact6 as being better than the others. The choice between them depends upon\n",
    "whether one wants to trap the application to negative numbers as an error or to\n",
    "return the value 1"
   ]
  },
  {
   "cell_type": "markdown",
   "metadata": {},
   "source": [
    "   "
   ]
  },
  {
   "cell_type": "markdown",
   "metadata": {},
   "source": [
    "     "
   ]
  },
  {
   "cell_type": "markdown",
   "metadata": {},
   "source": [
    "                                                  20"
   ]
  },
  {
   "cell_type": "code",
   "execution_count": null,
   "metadata": {},
   "outputs": [],
   "source": []
  }
 ],
 "metadata": {
  "kernelspec": {
   "display_name": "Python 3 (ipykernel)",
   "language": "python",
   "name": "python3"
  },
  "language_info": {
   "codemirror_mode": {
    "name": "ipython",
    "version": 3
   },
   "file_extension": ".py",
   "mimetype": "text/x-python",
   "name": "python",
   "nbconvert_exporter": "python",
   "pygments_lexer": "ipython3",
   "version": "3.12.0"
  },
  "vscode": {
   "interpreter": {
    "hash": "d7b89e158b719c02a21186c9646700ecf5a8cc5b1b6f738df9b6ffa75e5e74e4"
   }
  }
 },
 "nbformat": 4,
 "nbformat_minor": 4
}
